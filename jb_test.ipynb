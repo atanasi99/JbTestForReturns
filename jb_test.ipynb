{
 "cells": [
  {
   "cell_type": "markdown",
   "metadata": {},
   "source": [
    "# Jarque Bera test for normality of returns in equities\n",
    "***"
   ]
  },
  {
   "cell_type": "code",
   "execution_count": 1,
   "metadata": {},
   "outputs": [],
   "source": [
    "import pandas as pd \n",
    "import numpy as np\n",
    "import scipy.stats as stats\n",
    "import matplotlib.pyplot \n",
    "import yfinance as yf\n",
    "from returns import log_returns\n",
    "from datetime import date\n",
    "from dateutil.relativedelta  import relativedelta\n"
   ]
  },
  {
   "cell_type": "markdown",
   "metadata": {},
   "source": [
    "### The Jarque-Bera Test\n"
   ]
  },
  {
   "cell_type": "markdown",
   "metadata": {},
   "source": [
    "- The Jarque-Bera (JB) test is a statistical test that can be used to test whether a given sample was drawnfrom a normal distribution.\n",
    "- The null hypothesis is that the data set has the same skewness (0) and kurtosis (3) as a normaldistribution.\n",
    " - The test statistic is:\n",
    "\n",
    "\\begin{equation*}\n",
    "    JB = \\frac{n}{6}( S^2 + \\frac{1}{4} (K-3)^2    )\n",
    "\\end{equation*}\n",
    "\n",
    "where $S$ is the sample skewness, $K$ is the sample kurtosis, and $n$ is the number of observations.\n",
    "- It is implemented in scipy.stats.jarque_bera()"
   ]
  },
  {
   "cell_type": "markdown",
   "metadata": {},
   "source": [
    "### Implementation"
   ]
  },
  {
   "cell_type": "markdown",
   "metadata": {},
   "source": [
    "The JB test statistic is computed in the same method as in the previous exercise, which is done by computing the skewness and kurtosis of the returns and then using the JB formula compute the test statistic. The other values which has to be computed is the p-value, where the p-value is the probability of obtaining results at the extreme. The p-value is calculated by obtaining the area underneath the distribution for the extreme observation. This is computed by counting the number of JB bootstrap test statistics that are less than the JB empirical test statistic. Once we obtain the number of terms that less we scale the value by dividing it by the number of samples and subtract it from the total area of the distribution which is one. Lastly we have to observe the distributution by plotting the boxplot for each sampling frequency then comparing them to observe if stock returns exhibit aggregational Gaussianity. Aggregational Gaussianity is when the time step of the returns increases, this should lead to a distribution which looks more like normal distribution.\n",
    "\n",
    "Once the test statistics and p-values are computed the test statistics have to be plotted as a boxplot to allow comparison between the different sampling frequencies. As the values have to be computed for different sampling frequencies a function will be used which will compute the test statistic and p-value for each stock. Then using a loop, the function will be used to compute the values for all the stocks and finally be represented as dataframe.\n",
    "\n",
    "First step is to define the function. The function arguments are the data source of the returns, the stock ticker for the current stock in the loop, the sampling frequency (eg. 'M' corresponding to monthly) and final argument being the number of bootstrap replications. Next we compute the size of the returns by using the count function to count how many prices we have in the stock, as this method excludes any Nan values.\n",
    "\n",
    "The empirical value is computed by computing the skewness and kurtosis along with a omitting Nan parameters so that Nan values are dropped. The skewness and kurtosis is substituted in the JB formula to obtain the empirical test statistic.\n",
    "\n",
    "To compute the p-value requires computing the bootstrap data distribution. First, using the number of bootstrap replications and the size of the data, we draw sets of data from a normal distribution. Then as before the skewness and kurtosis is computed, then substituted in to the JB formula to give us a distribution of JB test statistics.\n",
    "\n",
    "To compute the p-values, we use a for loop to compare the current JB test statistic to the empirical test statistic. Then using a if statement we add one to the counter if the current JB statistic in the loop of the bootstrap distribution is less than the empirical test statistic. This value is then scaled by dividing it by the size of the samples, then subtracted from the total area which is 1, to give us the p-value.\n",
    "\n",
    "A result dataframe is created so that the function returns a dataframe containing the test statistic and p-values for the stock. This function is called in a for loop so it computes the values for all stocks i the index."
   ]
  },
  {
   "cell_type": "code",
   "execution_count": 86,
   "metadata": {},
   "outputs": [],
   "source": [
    "# Define function for Jarque-Bera test\n",
    "def JB(data_source, T, bootstrap):\n",
    "\n",
    "    data  = data_source\n",
    "    # Compute size of data \n",
    "    size_data  = int(data.count())\n",
    "    \n",
    "    # Empirical value\n",
    "    s_emp = stats.skew(data, nan_policy='omit') # Obtain skewnness of returns with parameter nan-policy set to omit to exclude any nan in data\n",
    "    k_emp = stats.kurtosis(data, fisher = False, nan_policy='omit') # Obtain kurtosis of returns with parameter nan-policy set to omit to exclude any nan in data\n",
    "    JB_emp = (size_data/6) *  (s_emp**2 + (((k_emp-3)**2)/4)) # Compute test statistic for empirical data\n",
    "    \n",
    "    # Compute the bootstrap data\n",
    "    bootstrap_data = np.random.normal(size=(size_data, bootstrap))\n",
    "    s_boot = stats.skew(bootstrap_data, nan_policy='omit') # Obtain skewnness of theoretical distribution with parameter nan-policy set to omit to exclude any nan in data\n",
    "    k_boot = stats.kurtosis(bootstrap_data, fisher = False, nan_policy='omit') # Obtain kurtosis of theoretical distribution with parameter nan-policy set to omit to exclude any nan in data\n",
    "    JB_boot = (size_data/6) *  (s_boot**2 + (((k_boot-3)**2)/4)) # Compute test statistics for theoretical distribution\n",
    "    \n",
    "    # Compute p-values\n",
    "    counter = 0.0\n",
    "    for i in range(len(JB_boot)):\n",
    "        if JB_boot[i] < JB_emp:\n",
    "            counter = counter + 1.0\n",
    "    \n",
    "    p_value = 1 - (counter/len(JB_boot)) \n",
    "\n",
    "    result = pd.DataFrame({\"Stock values\" : [JB_emp,p_value]}, index = [\"%s JB test\"%T,\"%s p-value\"%T ])\n",
    "\n",
    "    return result"
   ]
  },
  {
   "cell_type": "markdown",
   "metadata": {},
   "source": [
    "### Loading data\n"
   ]
  },
  {
   "cell_type": "code",
   "execution_count": 99,
   "metadata": {},
   "outputs": [
    {
     "data": {
      "text/plain": [
       "Date\n",
       "2017-12-04    226.496170\n",
       "2017-12-05    224.399750\n",
       "2017-12-06    222.249069\n",
       "Name: Close, dtype: float64"
      ]
     },
     "execution_count": 99,
     "metadata": {},
     "output_type": "execute_result"
    }
   ],
   "source": [
    "# Use Goldman Sachs ticker\n",
    "ticker = 'GS'\n",
    "security_object = yf.Ticker(ticker)\n",
    "\n",
    "# Retrieve historical prices for selected ticker\n",
    "security_prices = security_object.history(start=(date.today() - relativedelta(years=5)))\n",
    "# Only use close prices\n",
    "df_prices = security_prices['Close']\n",
    "\n",
    "df_prices.head(3)"
   ]
  },
  {
   "cell_type": "markdown",
   "metadata": {},
   "source": [
    "### JB for daily returns"
   ]
  },
  {
   "cell_type": "code",
   "execution_count": 100,
   "metadata": {},
   "outputs": [
    {
     "data": {
      "text/html": [
       "<div>\n",
       "<style scoped>\n",
       "    .dataframe tbody tr th:only-of-type {\n",
       "        vertical-align: middle;\n",
       "    }\n",
       "\n",
       "    .dataframe tbody tr th {\n",
       "        vertical-align: top;\n",
       "    }\n",
       "\n",
       "    .dataframe thead th {\n",
       "        text-align: right;\n",
       "    }\n",
       "</style>\n",
       "<table border=\"1\" class=\"dataframe\">\n",
       "  <thead>\n",
       "    <tr style=\"text-align: right;\">\n",
       "      <th></th>\n",
       "      <th>Stock values</th>\n",
       "    </tr>\n",
       "  </thead>\n",
       "  <tbody>\n",
       "    <tr>\n",
       "      <th>Daily JB test</th>\n",
       "      <td>[4589.941840945824]</td>\n",
       "    </tr>\n",
       "    <tr>\n",
       "      <th>Daily p-value</th>\n",
       "      <td>0.0</td>\n",
       "    </tr>\n",
       "  </tbody>\n",
       "</table>\n",
       "</div>"
      ],
      "text/plain": [
       "                      Stock values\n",
       "Daily JB test  [4589.941840945824]\n",
       "Daily p-value                  0.0"
      ]
     },
     "execution_count": 100,
     "metadata": {},
     "output_type": "execute_result"
    }
   ],
   "source": [
    "returns_GS_daily = log_returns(df_prices, 'D')\n",
    "jb_daily = JB(returns_GS_daily, 'Daily', 5000)\n",
    "jb_daily"
   ]
  },
  {
   "cell_type": "markdown",
   "metadata": {},
   "source": [
    "### JB for monthly returns"
   ]
  },
  {
   "cell_type": "code",
   "execution_count": 101,
   "metadata": {},
   "outputs": [
    {
     "data": {
      "text/html": [
       "<div>\n",
       "<style scoped>\n",
       "    .dataframe tbody tr th:only-of-type {\n",
       "        vertical-align: middle;\n",
       "    }\n",
       "\n",
       "    .dataframe tbody tr th {\n",
       "        vertical-align: top;\n",
       "    }\n",
       "\n",
       "    .dataframe thead th {\n",
       "        text-align: right;\n",
       "    }\n",
       "</style>\n",
       "<table border=\"1\" class=\"dataframe\">\n",
       "  <thead>\n",
       "    <tr style=\"text-align: right;\">\n",
       "      <th></th>\n",
       "      <th>Stock values</th>\n",
       "    </tr>\n",
       "  </thead>\n",
       "  <tbody>\n",
       "    <tr>\n",
       "      <th>Monthly JB test</th>\n",
       "      <td>[0.6240025928146146]</td>\n",
       "    </tr>\n",
       "    <tr>\n",
       "      <th>Monthly p-value</th>\n",
       "      <td>0.6968</td>\n",
       "    </tr>\n",
       "  </tbody>\n",
       "</table>\n",
       "</div>"
      ],
      "text/plain": [
       "                         Stock values\n",
       "Monthly JB test  [0.6240025928146146]\n",
       "Monthly p-value                0.6968"
      ]
     },
     "execution_count": 101,
     "metadata": {},
     "output_type": "execute_result"
    }
   ],
   "source": [
    "returns_GS_monthly = log_returns(df_prices, 'M')\n",
    "jb_monthly = JB(returns_GS_monthly, 'Monthly', 5000)\n",
    "jb_monthly"
   ]
  },
  {
   "cell_type": "markdown",
   "metadata": {},
   "source": [
    "### JB for annual returns"
   ]
  },
  {
   "cell_type": "code",
   "execution_count": 102,
   "metadata": {},
   "outputs": [
    {
     "data": {
      "text/html": [
       "<div>\n",
       "<style scoped>\n",
       "    .dataframe tbody tr th:only-of-type {\n",
       "        vertical-align: middle;\n",
       "    }\n",
       "\n",
       "    .dataframe tbody tr th {\n",
       "        vertical-align: top;\n",
       "    }\n",
       "\n",
       "    .dataframe thead th {\n",
       "        text-align: right;\n",
       "    }\n",
       "</style>\n",
       "<table border=\"1\" class=\"dataframe\">\n",
       "  <thead>\n",
       "    <tr style=\"text-align: right;\">\n",
       "      <th></th>\n",
       "      <th>Stock values</th>\n",
       "    </tr>\n",
       "  </thead>\n",
       "  <tbody>\n",
       "    <tr>\n",
       "      <th>Annual JB test</th>\n",
       "      <td>[0.6390608573641522]</td>\n",
       "    </tr>\n",
       "    <tr>\n",
       "      <th>Annual p-value</th>\n",
       "      <td>0.3124</td>\n",
       "    </tr>\n",
       "  </tbody>\n",
       "</table>\n",
       "</div>"
      ],
      "text/plain": [
       "                        Stock values\n",
       "Annual JB test  [0.6390608573641522]\n",
       "Annual p-value                0.3124"
      ]
     },
     "execution_count": 102,
     "metadata": {},
     "output_type": "execute_result"
    }
   ],
   "source": [
    "returns_GS_annual = log_returns(df_prices, 'A')\n",
    "jb_annual = JB(returns_GS_annual, 'Annual', 5000)\n",
    "jb_annual"
   ]
  },
  {
   "cell_type": "markdown",
   "metadata": {},
   "source": [
    "### JB results"
   ]
  },
  {
   "cell_type": "code",
   "execution_count": 103,
   "metadata": {},
   "outputs": [
    {
     "data": {
      "text/html": [
       "<div>\n",
       "<style scoped>\n",
       "    .dataframe tbody tr th:only-of-type {\n",
       "        vertical-align: middle;\n",
       "    }\n",
       "\n",
       "    .dataframe tbody tr th {\n",
       "        vertical-align: top;\n",
       "    }\n",
       "\n",
       "    .dataframe thead th {\n",
       "        text-align: right;\n",
       "    }\n",
       "</style>\n",
       "<table border=\"1\" class=\"dataframe\">\n",
       "  <thead>\n",
       "    <tr style=\"text-align: right;\">\n",
       "      <th></th>\n",
       "      <th>Daily JB test</th>\n",
       "      <th>Daily p-value</th>\n",
       "      <th>Monthly JB test</th>\n",
       "      <th>Monthly p-value</th>\n",
       "      <th>Annual JB test</th>\n",
       "      <th>Annual p-value</th>\n",
       "    </tr>\n",
       "  </thead>\n",
       "  <tbody>\n",
       "    <tr>\n",
       "      <th>Stock values</th>\n",
       "      <td>[4589.941840945824]</td>\n",
       "      <td>0.0</td>\n",
       "      <td>[0.6240025928146146]</td>\n",
       "      <td>0.6968</td>\n",
       "      <td>[0.6390608573641522]</td>\n",
       "      <td>0.3124</td>\n",
       "    </tr>\n",
       "  </tbody>\n",
       "</table>\n",
       "</div>"
      ],
      "text/plain": [
       "                    Daily JB test Daily p-value       Monthly JB test  \\\n",
       "Stock values  [4589.941840945824]           0.0  [0.6240025928146146]   \n",
       "\n",
       "             Monthly p-value        Annual JB test Annual p-value  \n",
       "Stock values          0.6968  [0.6390608573641522]         0.3124  "
      ]
     },
     "execution_count": 103,
     "metadata": {},
     "output_type": "execute_result"
    }
   ],
   "source": [
    "JB_statistics = pd.concat([jb_daily, jb_monthly, jb_annual])\n",
    "\n",
    "JB_statistics_transpose = JB_statistics.transpose()\n",
    "\n",
    "JB_statistics_transpose"
   ]
  }
 ],
 "metadata": {
  "kernelspec": {
   "display_name": "Python 3.10.2 64-bit",
   "language": "python",
   "name": "python3"
  },
  "language_info": {
   "codemirror_mode": {
    "name": "ipython",
    "version": 3
   },
   "file_extension": ".py",
   "mimetype": "text/x-python",
   "name": "python",
   "nbconvert_exporter": "python",
   "pygments_lexer": "ipython3",
   "version": "3.10.2"
  },
  "orig_nbformat": 4,
  "vscode": {
   "interpreter": {
    "hash": "eeff7bc35f51786e2fed3b31feaddd3bdad37a9ef9e3fb5bdd460b36b8bf7fb5"
   }
  }
 },
 "nbformat": 4,
 "nbformat_minor": 2
}
